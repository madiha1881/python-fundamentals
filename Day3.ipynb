{
 "cells": [
  {
   "cell_type": "code",
   "execution_count": null,
   "id": "3251aa10-56a6-438b-9cbb-920d7f2593c7",
   "metadata": {},
   "outputs": [],
   "source": [
    "Continutation with the string datatype :"
   ]
  },
  {
   "cell_type": "code",
   "execution_count": null,
   "id": "ee27951a-6fb7-4409-8dce-571e4421e651",
   "metadata": {},
   "outputs": [],
   "source": []
  },
  {
   "cell_type": "code",
   "execution_count": 28,
   "id": "521834bc-265e-4e72-b6c6-a0e3dac5a783",
   "metadata": {},
   "outputs": [],
   "source": [
    "firstname = 'ravi'\n",
    "lastname =  'kumar'"
   ]
  },
  {
   "cell_type": "code",
   "execution_count": null,
   "id": "411e9456-d0be-40a2-8f17-6ce62ac5399c",
   "metadata": {},
   "outputs": [],
   "source": [
    "# req : i want to get the full name.....?"
   ]
  },
  {
   "cell_type": "code",
   "execution_count": null,
   "id": "40044984-f8d0-4ba4-aa0b-8d235306a7f2",
   "metadata": {},
   "outputs": [],
   "source": []
  },
  {
   "cell_type": "code",
   "execution_count": null,
   "id": "1e852bb3-de29-4291-8b82-2dd2d115ef2f",
   "metadata": {},
   "outputs": [],
   "source": []
  },
  {
   "cell_type": "code",
   "execution_count": null,
   "id": "7665a532-1f01-422c-8d1a-0e464d1cc5ed",
   "metadata": {},
   "outputs": [],
   "source": [
    "introduction to f strings :"
   ]
  },
  {
   "cell_type": "code",
   "execution_count": null,
   "id": "a5b04a9c-d700-47ce-a715-88c09d2088cf",
   "metadata": {},
   "outputs": [],
   "source": [
    "# general synatax of f strings"
   ]
  },
  {
   "cell_type": "code",
   "execution_count": null,
   "id": "e2453168-6979-4b00-8db1-462519422332",
   "metadata": {},
   "outputs": [],
   "source": [
    "f\" custom message {placeholder1}  {placeholder2}.........{placeholder.....n}\""
   ]
  },
  {
   "cell_type": "code",
   "execution_count": null,
   "id": "1689a3e3-d817-455c-87af-2a45c4108950",
   "metadata": {},
   "outputs": [],
   "source": []
  },
  {
   "cell_type": "code",
   "execution_count": 30,
   "id": "d94b57c0-b86b-4c63-8ada-5bccc014a60d",
   "metadata": {},
   "outputs": [
    {
     "name": "stdout",
     "output_type": "stream",
     "text": [
      "ravi kumar\n"
     ]
    }
   ],
   "source": [
    "fullname = f\"{firstname} {lastname}\"\n",
    "\n",
    "print(fullname)"
   ]
  },
  {
   "cell_type": "code",
   "execution_count": 32,
   "id": "c453c216-846f-4a27-97bd-05c60a7adbf5",
   "metadata": {},
   "outputs": [
    {
     "name": "stdout",
     "output_type": "stream",
     "text": [
      "Ravi Kumar\n"
     ]
    }
   ],
   "source": [
    "print(fullname.title())"
   ]
  },
  {
   "cell_type": "code",
   "execution_count": 36,
   "id": "1700ea5f-efd5-46ce-a155-b5b634de209f",
   "metadata": {},
   "outputs": [
    {
     "name": "stdout",
     "output_type": "stream",
     "text": [
      "keep up the good work Ravi Kumar\n"
     ]
    }
   ],
   "source": [
    "message = f\"keep up the good work {fullname.title()}\"\n",
    "\n",
    "print(message)"
   ]
  },
  {
   "cell_type": "code",
   "execution_count": null,
   "id": "52e4b1a4-1615-4181-b895-70c3a32f342a",
   "metadata": {},
   "outputs": [],
   "source": []
  },
  {
   "cell_type": "code",
   "execution_count": null,
   "id": "46d85352-edbe-4cf0-85cb-060734e1c5d1",
   "metadata": {},
   "outputs": [],
   "source": [
    "adding whitespaces to strings :"
   ]
  },
  {
   "cell_type": "code",
   "execution_count": 45,
   "id": "b4b25a13-3141-460f-924f-e114d9639324",
   "metadata": {},
   "outputs": [
    {
     "name": "stdout",
     "output_type": "stream",
     "text": [
      "favourite_prog_language:pythonjavac++swiftreactcpascal\n"
     ]
    }
   ],
   "source": [
    "print(\"favourite_prog_language:pythonjavac++swiftreactcpascal\")"
   ]
  },
  {
   "cell_type": "code",
   "execution_count": 47,
   "id": "b11f65a3-3707-4061-b99f-cf2fdf2bbd2f",
   "metadata": {},
   "outputs": [
    {
     "name": "stdout",
     "output_type": "stream",
     "text": [
      "favourite_prog_language:\n",
      "python\n",
      "java\n",
      "c++\n",
      "swift\n",
      "react\n",
      "c\n",
      "pascal\n"
     ]
    }
   ],
   "source": [
    "print(\"favourite_prog_language:\\npython\\njava\\nc++\\nswift\\nreact\\nc\\npascal\")   #\\n-----> new Line delimiter"
   ]
  },
  {
   "cell_type": "code",
   "execution_count": 51,
   "id": "ee93ea80-fec8-43fa-a2b0-7bd8cd0775f0",
   "metadata": {},
   "outputs": [
    {
     "name": "stdout",
     "output_type": "stream",
     "text": [
      "favourite_prog_language:\n",
      "\tpython\n",
      "\tjava\n",
      "\tc++\n",
      "\tswift\n",
      "\treact\n",
      "\tc\n",
      "\tpascal\n"
     ]
    }
   ],
   "source": [
    "print(\"favourite_prog_language:\\n\\tpython\\n\\tjava\\n\\tc++\\n\\tswift\\n\\treact\\n\\tc\\n\\tpascal\") #\\t-----> tab delimiter"
   ]
  },
  {
   "cell_type": "code",
   "execution_count": null,
   "id": "d75cee50-cb4a-4eb8-b250-7e4a6c334c86",
   "metadata": {},
   "outputs": [],
   "source": [
    "Removing whitespaces from the strings :"
   ]
  },
  {
   "cell_type": "code",
   "execution_count": 55,
   "id": "cf253124-8e05-48fc-b745-0b2907be51d8",
   "metadata": {},
   "outputs": [
    {
     "name": "stdout",
     "output_type": "stream",
     "text": [
      "python\n"
     ]
    }
   ],
   "source": [
    "name = 'python'        # no gap\n",
    "\n",
    "print(name)"
   ]
  },
  {
   "cell_type": "code",
   "execution_count": 57,
   "id": "7c4d41cf-787d-4cb9-9e50-af664cc39f28",
   "metadata": {},
   "outputs": [
    {
     "name": "stdout",
     "output_type": "stream",
     "text": [
      "   python\n"
     ]
    }
   ],
   "source": [
    "name2 = \"   python\"   # gap on the Left side\n",
    "\n",
    "print(name2)"
   ]
  },
  {
   "cell_type": "code",
   "execution_count": 59,
   "id": "ee3990e4-4119-4924-92e3-1b79092bded1",
   "metadata": {},
   "outputs": [
    {
     "name": "stdout",
     "output_type": "stream",
     "text": [
      "python   \n"
     ]
    }
   ],
   "source": [
    "name3 = 'python   '   # gap on the right side\n",
    "\n",
    "print(name3)"
   ]
  },
  {
   "cell_type": "code",
   "execution_count": null,
   "id": "87e1ee16-ee7d-4697-acf6-df079e997d1a",
   "metadata": {},
   "outputs": [],
   "source": [
    "strip method"
   ]
  },
  {
   "cell_type": "code",
   "execution_count": 64,
   "id": "3a87f566-a6d0-407b-87ac-01f8bbc6b7ce",
   "metadata": {},
   "outputs": [
    {
     "data": {
      "text/plain": [
       "'python'"
      ]
     },
     "execution_count": 64,
     "metadata": {},
     "output_type": "execute_result"
    }
   ],
   "source": [
    "name2.strip()"
   ]
  },
  {
   "cell_type": "code",
   "execution_count": 66,
   "id": "dcc68859-ba93-4776-adc5-24c82c5407d6",
   "metadata": {},
   "outputs": [
    {
     "data": {
      "text/plain": [
       "'python'"
      ]
     },
     "execution_count": 66,
     "metadata": {},
     "output_type": "execute_result"
    }
   ],
   "source": [
    "name3.strip()"
   ]
  },
  {
   "cell_type": "code",
   "execution_count": null,
   "id": "be3f2ed9-5de3-40cf-8ecf-7cef7b012b18",
   "metadata": {},
   "outputs": [],
   "source": [
    "\n"
   ]
  }
 ],
 "metadata": {
  "kernelspec": {
   "display_name": "Python 3 (ipykernel)",
   "language": "python",
   "name": "python3"
  },
  "language_info": {
   "codemirror_mode": {
    "name": "ipython",
    "version": 3
   },
   "file_extension": ".py",
   "mimetype": "text/x-python",
   "name": "python",
   "nbconvert_exporter": "python",
   "pygments_lexer": "ipython3",
   "version": "3.12.4"
  }
 },
 "nbformat": 4,
 "nbformat_minor": 5
}
