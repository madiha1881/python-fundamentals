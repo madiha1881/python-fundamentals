{
 "cells": [
  {
   "cell_type": "code",
   "execution_count": null,
   "id": "ebd18528-6bb6-4926-873c-187a6993c2f7",
   "metadata": {},
   "outputs": [],
   "source": [
    "Continuation with list dtatype :"
   ]
  },
  {
   "cell_type": "code",
   "execution_count": null,
   "id": "2c74a159-5b21-461f-856f-bccfda8f4023",
   "metadata": {},
   "outputs": [],
   "source": [
    "Organising the list datatype :"
   ]
  },
  {
   "cell_type": "code",
   "execution_count": null,
   "id": "0681e712-e2be-4701-be8c-922374217888",
   "metadata": {},
   "outputs": [],
   "source": []
  },
  {
   "cell_type": "code",
   "execution_count": 19,
   "id": "dcb94b57-ef96-4b04-8561-9581491bca0d",
   "metadata": {},
   "outputs": [],
   "source": [
    "cars = ['benz','maruthi','audi','suziki','bmw','kia']"
   ]
  },
  {
   "cell_type": "code",
   "execution_count": 21,
   "id": "42d1e30c-b362-4e54-afeb-b52ebf0373fb",
   "metadata": {},
   "outputs": [
    {
     "name": "stdout",
     "output_type": "stream",
     "text": [
      "['benz', 'maruthi', 'audi', 'suziki', 'bmw', 'kia']\n"
     ]
    }
   ],
   "source": [
    "print(cars)"
   ]
  },
  {
   "cell_type": "code",
   "execution_count": null,
   "id": "46ec5ca8-eebe-4460-ae75-3b5fd0f52daa",
   "metadata": {},
   "outputs": [],
   "source": [
    "# req : i want to organise the List in A - z order"
   ]
  },
  {
   "cell_type": "code",
   "execution_count": null,
   "id": "a8d2c7cb-d231-4520-ae69-4cd3722bafce",
   "metadata": {},
   "outputs": [],
   "source": [
    "1. temp approach     =========================== sorted method =====> we can have the orginal list order maintained.\n",
    "\n",
    "2. permanent apprach --------------------------> sort method   =====> we will not be having the original order ---- changes are applied permanently."
   ]
  },
  {
   "cell_type": "code",
   "execution_count": null,
   "id": "5a1faf2c-f25c-4f1a-a2e2-f12d436debae",
   "metadata": {},
   "outputs": [],
   "source": []
  },
  {
   "cell_type": "code",
   "execution_count": 23,
   "id": "6dff9fcb-d734-4ee9-ba7d-8d5e56329cc7",
   "metadata": {},
   "outputs": [
    {
     "name": "stdout",
     "output_type": "stream",
     "text": [
      "['audi', 'benz', 'bmw', 'kia', 'maruthi', 'suziki']\n"
     ]
    }
   ],
   "source": [
    "print(sorted(cars)) # A , B , B , K , M , S"
   ]
  },
  {
   "cell_type": "code",
   "execution_count": null,
   "id": "3b604cc5-dbcf-495d-9b1d-52205016e4af",
   "metadata": {},
   "outputs": [],
   "source": [
    "# benz and bmw ======> B, B E, M ======> E"
   ]
  },
  {
   "cell_type": "code",
   "execution_count": 25,
   "id": "2ff122e5-5fbc-4679-912f-748d3e0b96e1",
   "metadata": {},
   "outputs": [
    {
     "name": "stdout",
     "output_type": "stream",
     "text": [
      "['benz', 'maruthi', 'audi', 'suziki', 'bmw', 'kia']\n"
     ]
    }
   ],
   "source": [
    "print(cars) #we are getting the original order intact ........!"
   ]
  },
  {
   "cell_type": "code",
   "execution_count": null,
   "id": "43027cf5-2b9c-4757-8f99-b1487b8ab2c1",
   "metadata": {},
   "outputs": [],
   "source": []
  },
  {
   "cell_type": "code",
   "execution_count": 27,
   "id": "593f0485-0cfb-4df4-90a3-de9c0b73629d",
   "metadata": {},
   "outputs": [],
   "source": [
    "cars.sort()"
   ]
  },
  {
   "cell_type": "code",
   "execution_count": 29,
   "id": "e9b02d5a-237d-47f0-8fae-beef2e9bb950",
   "metadata": {},
   "outputs": [
    {
     "name": "stdout",
     "output_type": "stream",
     "text": [
      "['audi', 'benz', 'bmw', 'kia', 'maruthi', 'suziki']\n"
     ]
    }
   ],
   "source": [
    "print(cars)"
   ]
  },
  {
   "cell_type": "code",
   "execution_count": 31,
   "id": "efaf7113-239e-4be8-8b23-6eac5c4b7c72",
   "metadata": {},
   "outputs": [
    {
     "name": "stdout",
     "output_type": "stream",
     "text": [
      "['audi', 'benz', 'bmw', 'kia', 'maruthi', 'suziki']\n"
     ]
    }
   ],
   "source": [
    "print(cars)"
   ]
  },
  {
   "cell_type": "code",
   "execution_count": null,
   "id": "303c5ec0-aad4-44a4-ac36-7d72482867d6",
   "metadata": {},
   "outputs": [],
   "source": [
    "Interview_question : what is the different between sorted and sort method in the list datatype......!"
   ]
  },
  {
   "cell_type": "code",
   "execution_count": null,
   "id": "24e4bfd0-5631-48ca-a82e-825b4774c654",
   "metadata": {},
   "outputs": [],
   "source": [
    "# req : i want to print the list in the reverse order.....!"
   ]
  },
  {
   "cell_type": "code",
   "execution_count": 33,
   "id": "d7c61a90-144a-43dd-879a-31f9a8dbde94",
   "metadata": {},
   "outputs": [],
   "source": [
    "cars.reverse()"
   ]
  },
  {
   "cell_type": "code",
   "execution_count": 35,
   "id": "8b7f314c-fd78-4cc1-ad2e-ca36a9e2f790",
   "metadata": {},
   "outputs": [
    {
     "name": "stdout",
     "output_type": "stream",
     "text": [
      "['suziki', 'maruthi', 'kia', 'bmw', 'benz', 'audi']\n"
     ]
    }
   ],
   "source": [
    "print(cars)"
   ]
  },
  {
   "cell_type": "code",
   "execution_count": 43,
   "id": "ea842640-974f-488e-a479-d4d729891767",
   "metadata": {},
   "outputs": [
    {
     "name": "stdout",
     "output_type": "stream",
     "text": [
      "['suziki', 'maruthi', 'kia', 'bmw', 'benz', 'audi']\n"
     ]
    }
   ],
   "source": [
    "print(cars)"
   ]
  },
  {
   "cell_type": "code",
   "execution_count": null,
   "id": "1c726be5-a401-42da-adcf-e7e4b59b8d87",
   "metadata": {},
   "outputs": [],
   "source": [
    "# req : i want to know the total count of elements"
   ]
  },
  {
   "cell_type": "code",
   "execution_count": 45,
   "id": "6aa83aec-4d85-46a2-ae26-1419d178bec7",
   "metadata": {},
   "outputs": [
    {
     "data": {
      "text/plain": [
       "6"
      ]
     },
     "execution_count": 45,
     "metadata": {},
     "output_type": "execute_result"
    }
   ],
   "source": [
    "len(cars)"
   ]
  },
  {
   "cell_type": "code",
   "execution_count": null,
   "id": "ef72a3cb-2c03-485c-b076-f2d6621e8678",
   "metadata": {},
   "outputs": [],
   "source": []
  },
  {
   "cell_type": "code",
   "execution_count": null,
   "id": "27dab158-c417-4916-ad3c-244fb446feb7",
   "metadata": {},
   "outputs": [],
   "source": [
    "slicing the list :"
   ]
  },
  {
   "cell_type": "code",
   "execution_count": null,
   "id": "84bf197f-6d43-4658-b7be-24ee5e6d392b",
   "metadata": {},
   "outputs": [],
   "source": []
  },
  {
   "cell_type": "code",
   "execution_count": 82,
   "id": "7fbe60de-1be1-4853-a3f6-a0bab6d9257c",
   "metadata": {},
   "outputs": [],
   "source": [
    "students = ['aditi','naveen','saima','keerthi','nowman','joseph']"
   ]
  },
  {
   "cell_type": "code",
   "execution_count": 84,
   "id": "d800f4f4-2577-4c03-9e8e-76d48a26d250",
   "metadata": {},
   "outputs": [
    {
     "name": "stdout",
     "output_type": "stream",
     "text": [
      "['aditi', 'naveen', 'saima', 'keerthi', 'nowman', 'joseph']\n"
     ]
    }
   ],
   "source": [
    "print(students)"
   ]
  },
  {
   "cell_type": "code",
   "execution_count": 57,
   "id": "089ad73c-77af-4123-bff8-94d567cbfa49",
   "metadata": {},
   "outputs": [
    {
     "data": {
      "text/plain": [
       "list"
      ]
     },
     "execution_count": 57,
     "metadata": {},
     "output_type": "execute_result"
    }
   ],
   "source": [
    "type(students)"
   ]
  },
  {
   "cell_type": "code",
   "execution_count": null,
   "id": "6179b19e-8f02-4e86-933d-ffe28d67f4fe",
   "metadata": {},
   "outputs": [],
   "source": [
    "# General syntax of slicing"
   ]
  },
  {
   "cell_type": "code",
   "execution_count": null,
   "id": "0a4bb249-4957-446b-a094-7ed25b4b8f6f",
   "metadata": {},
   "outputs": [],
   "source": [
    "[start_value:stop_value:step_count]"
   ]
  },
  {
   "cell_type": "code",
   "execution_count": null,
   "id": "54a46d31-bd4d-40b9-a800-3ef9353ca1c8",
   "metadata": {},
   "outputs": [],
   "source": [
    "Note_point : stop_value is always exclusive, to include the stop valuewe have to increment the index by +1."
   ]
  },
  {
   "cell_type": "code",
   "execution_count": null,
   "id": "0260118a-ff6f-4061-befb-eca1cf2d2326",
   "metadata": {},
   "outputs": [],
   "source": [
    "# req: i want lets say aditi and naveen in the output."
   ]
  },
  {
   "cell_type": "code",
   "execution_count": 66,
   "id": "da92ebba-2593-417a-b9e0-189e381818f9",
   "metadata": {},
   "outputs": [
    {
     "name": "stdout",
     "output_type": "stream",
     "text": [
      "['aditi']\n"
     ]
    }
   ],
   "source": [
    "print(students[0:1])"
   ]
  },
  {
   "cell_type": "code",
   "execution_count": 68,
   "id": "bfa46685-b735-4496-94af-5ad930d497ae",
   "metadata": {},
   "outputs": [
    {
     "name": "stdout",
     "output_type": "stream",
     "text": [
      "['aditi', 'naveen']\n"
     ]
    }
   ],
   "source": [
    "print(students[0:2])"
   ]
  },
  {
   "cell_type": "code",
   "execution_count": null,
   "id": "5042a690-047d-4ba2-95ea-dbc42e40cc7c",
   "metadata": {},
   "outputs": [],
   "source": [
    "# req  : saima and keerthi in the output."
   ]
  },
  {
   "cell_type": "code",
   "execution_count": 86,
   "id": "26f38791-95e5-40b3-be01-8e58efd940ac",
   "metadata": {},
   "outputs": [
    {
     "name": "stdout",
     "output_type": "stream",
     "text": [
      "['saima', 'keerthi']\n"
     ]
    }
   ],
   "source": [
    "print(students[2:4])"
   ]
  },
  {
   "cell_type": "code",
   "execution_count": null,
   "id": "dea0a053-0114-4d23-83a7-350dcf505e30",
   "metadata": {},
   "outputs": [],
   "source": [
    "# req : nowman and jospeh in the output."
   ]
  },
  {
   "cell_type": "code",
   "execution_count": 88,
   "id": "db18de7a-da4c-4fa7-af53-188098bac21a",
   "metadata": {},
   "outputs": [
    {
     "name": "stdout",
     "output_type": "stream",
     "text": [
      "['nowman', 'joseph']\n"
     ]
    }
   ],
   "source": [
    "print(students[4:6])"
   ]
  },
  {
   "cell_type": "code",
   "execution_count": null,
   "id": "f7a9a185-a97d-40e7-9f3f-9bee1bc86615",
   "metadata": {},
   "outputs": [],
   "source": [
    "# req : i want aditi , salma and nowman in the output."
   ]
  },
  {
   "cell_type": "code",
   "execution_count": null,
   "id": "4494343a-c0ea-4cde-b70b-ee8714a51863",
   "metadata": {},
   "outputs": [],
   "source": []
  },
  {
   "cell_type": "code",
   "execution_count": 90,
   "id": "adfff3ab-a7e4-4525-863f-26846a83cac9",
   "metadata": {},
   "outputs": [
    {
     "name": "stdout",
     "output_type": "stream",
     "text": [
      "['aditi', 'saima', 'nowman']\n"
     ]
    }
   ],
   "source": [
    "print(students[0:6:2])"
   ]
  },
  {
   "cell_type": "code",
   "execution_count": 92,
   "id": "fe27b29a-a406-4cb1-af37-e6d5f4acfb79",
   "metadata": {},
   "outputs": [
    {
     "name": "stdout",
     "output_type": "stream",
     "text": [
      "['aditi', 'naveen', 'saima', 'keerthi', 'nowman', 'joseph']\n"
     ]
    }
   ],
   "source": [
    "print(students)"
   ]
  },
  {
   "cell_type": "code",
   "execution_count": null,
   "id": "0903da94-29c2-48c0-9d18-660226594b6d",
   "metadata": {},
   "outputs": [],
   "source": []
  },
  {
   "cell_type": "code",
   "execution_count": null,
   "id": "eb0e8541-6ae0-4858-b80a-595b520cb2b9",
   "metadata": {},
   "outputs": [],
   "source": []
  },
  {
   "cell_type": "code",
   "execution_count": null,
   "id": "7bab4430-461a-4477-ad7b-45855e7fc7cb",
   "metadata": {},
   "outputs": [],
   "source": []
  }
 ],
 "metadata": {
  "kernelspec": {
   "display_name": "Python 3 (ipykernel)",
   "language": "python",
   "name": "python3"
  },
  "language_info": {
   "codemirror_mode": {
    "name": "ipython",
    "version": 3
   },
   "file_extension": ".py",
   "mimetype": "text/x-python",
   "name": "python",
   "nbconvert_exporter": "python",
   "pygments_lexer": "ipython3",
   "version": "3.12.4"
  }
 },
 "nbformat": 4,
 "nbformat_minor": 5
}
