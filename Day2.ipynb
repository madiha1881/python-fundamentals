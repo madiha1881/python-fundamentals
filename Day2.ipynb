{
 "cells": [
  {
   "cell_type": "code",
   "execution_count": null,
   "id": "ae77c977-202d-4bd9-a6c1-be36ba7cce9c",
   "metadata": {},
   "outputs": [],
   "source": [
    "Introdution to Datatypes :\n",
    "\n",
    "1. Strings       =======> str\n",
    "\n",
    "2. Numbers       =======> integers (int) floats (decimals) 0,1,0.2,1.5\n",
    "\n",
    "3. List          =======> list\n",
    "\n",
    "4. Tuple         =======> tuple\n",
    "\n",
    "5. Dictionaries  =======> dict"
   ]
  },
  {
   "cell_type": "code",
   "execution_count": null,
   "id": "afd7a898-84cf-4bef-b27e-72e0c308a1bb",
   "metadata": {},
   "outputs": [],
   "source": []
  },
  {
   "cell_type": "code",
   "execution_count": null,
   "id": "4de031c4-b746-446f-ae01-cd44f485f2a9",
   "metadata": {},
   "outputs": [],
   "source": [
    "Classification of datatypes :\n",
    "\n",
    "Broadly datatypes are classified in to two categeories :\n",
    "\n",
    "1. mutable datatypes     ======> which we can be able to edit / alter     =====> flexible in nature\n",
    "\n",
    "2. immutable datatypes   ======> which we cannot be able to edit / alter  =====> fixed in nature"
   ]
  },
  {
   "cell_type": "code",
   "execution_count": null,
   "id": "4aee0352-3e5e-4e53-8147-f491f7766af5",
   "metadata": {},
   "outputs": [],
   "source": []
  },
  {
   "cell_type": "code",
   "execution_count": null,
   "id": "acb2c031-a27f-4c3e-8bcf-209dc99916f8",
   "metadata": {},
   "outputs": [],
   "source": [
    "Note : python is case sensitive programming language"
   ]
  },
  {
   "cell_type": "code",
   "execution_count": null,
   "id": "e3e23f0b-9f69-4b36-aa2d-37a8e2b9ff68",
   "metadata": {},
   "outputs": [],
   "source": []
  },
  {
   "cell_type": "code",
   "execution_count": null,
   "id": "92ba5986-c7ba-4c28-8bbd-54b7ddf21d77",
   "metadata": {},
   "outputs": [],
   "source": [
    "Introduction to string datatype :\n",
    "\n",
    " Defination    : A string is a series of characters daclared in quotes.\n",
    "\n",
    "Classification : It is classified as an immutable datatype.\n",
    "\n",
    "how to declare the string dstatype --------> ?\n",
    "\n",
    "1. Single quote =====> '  '\n",
    "\n",
    "2. Double quote =====> \"  \""
   ]
  },
  {
   "cell_type": "code",
   "execution_count": null,
   "id": "9c0cadd9-357b-4d6a-add7-b7b8acdb1b21",
   "metadata": {},
   "outputs": [],
   "source": []
  },
  {
   "cell_type": "code",
   "execution_count": 18,
   "id": "a0776622-1e4d-4578-872c-d49e8264f0d4",
   "metadata": {},
   "outputs": [
    {
     "name": "stdout",
     "output_type": "stream",
     "text": [
      "raju\n"
     ]
    }
   ],
   "source": [
    "name = 'raju'    # single quote\n",
    "\n",
    "print(name)"
   ]
  },
  {
   "cell_type": "code",
   "execution_count": 20,
   "id": "b0fe20e7-9a25-4424-be3d-5ea6769665a9",
   "metadata": {},
   "outputs": [
    {
     "name": "stdout",
     "output_type": "stream",
     "text": [
      "joseph\n"
     ]
    }
   ],
   "source": [
    "name2 = \"joseph\" # double quote\n",
    "\n",
    "print(name2)"
   ]
  },
  {
   "cell_type": "code",
   "execution_count": null,
   "id": "bee9bad3-15f9-4e46-abe8-ae7dfe410f44",
   "metadata": {},
   "outputs": [],
   "source": [
    "# is for commenting the code"
   ]
  },
  {
   "cell_type": "code",
   "execution_count": 22,
   "id": "4cb2718f-ae8f-4e1e-a568-a2c644e94b35",
   "metadata": {},
   "outputs": [
    {
     "ename": "SyntaxError",
     "evalue": "unterminated string literal (detected at line 1) (2737965703.py, line 1)",
     "output_type": "error",
     "traceback": [
      "\u001b[1;36m  Cell \u001b[1;32mIn[22], line 1\u001b[1;36m\u001b[0m\n\u001b[1;33m    name2 = \"joseph  double quote\u001b[0m\n\u001b[1;37m            ^\u001b[0m\n\u001b[1;31mSyntaxError\u001b[0m\u001b[1;31m:\u001b[0m unterminated string literal (detected at line 1)\n"
     ]
    }
   ],
   "source": [
    "name2 = \"joseph  double quote\n",
    "\n",
    "print(name2)"
   ]
  },
  {
   "cell_type": "code",
   "execution_count": null,
   "id": "f747c62c-8511-424e-bef3-cafcc8025d4b",
   "metadata": {},
   "outputs": [],
   "source": [
    "Introduction to string methods :"
   ]
  },
  {
   "cell_type": "code",
   "execution_count": 27,
   "id": "20c7d682-fcb9-42d7-9821-9159a2159641",
   "metadata": {},
   "outputs": [
    {
     "data": {
      "text/plain": [
       "str"
      ]
     },
     "execution_count": 27,
     "metadata": {},
     "output_type": "execute_result"
    }
   ],
   "source": [
    "type(name)"
   ]
  },
  {
   "cell_type": "code",
   "execution_count": 29,
   "id": "da8a0aa2-59bd-4060-8f89-d2b82314c649",
   "metadata": {},
   "outputs": [
    {
     "data": {
      "text/plain": [
       "str"
      ]
     },
     "execution_count": 29,
     "metadata": {},
     "output_type": "execute_result"
    }
   ],
   "source": [
    "type(name2)"
   ]
  },
  {
   "cell_type": "code",
   "execution_count": null,
   "id": "5b3c888d-d68d-4cc6-bcf7-428940b0fd7e",
   "metadata": {},
   "outputs": [],
   "source": [
    "type methods is used to verify and validate what kind of datatype it is."
   ]
  },
  {
   "cell_type": "code",
   "execution_count": 31,
   "id": "d92f01e1-b609-497c-b716-1b55aaebe060",
   "metadata": {},
   "outputs": [
    {
     "name": "stdout",
     "output_type": "stream",
     "text": [
      "madiha kowsar\n"
     ]
    }
   ],
   "source": [
    "fullname = 'madiha kowsar'\n",
    "\n",
    "print(fullname)"
   ]
  },
  {
   "cell_type": "code",
   "execution_count": 33,
   "id": "ef4020b1-978d-4693-af3a-7fd9acfff58c",
   "metadata": {},
   "outputs": [
    {
     "name": "stdout",
     "output_type": "stream",
     "text": [
      "Madiha Kowsar\n"
     ]
    }
   ],
   "source": [
    "print(fullname.title())"
   ]
  },
  {
   "cell_type": "code",
   "execution_count": null,
   "id": "b2222c0e-3ca7-4bfa-b79c-0742f4e23243",
   "metadata": {},
   "outputs": [],
   "source": [
    "# req : i want the entire name in capitals"
   ]
  },
  {
   "cell_type": "code",
   "execution_count": 40,
   "id": "6dd01a8c-7191-4c74-a5df-14f3822589f4",
   "metadata": {},
   "outputs": [
    {
     "name": "stdout",
     "output_type": "stream",
     "text": [
      "MADIHA KOWSAR\n"
     ]
    }
   ],
   "source": [
    "print(fullname.upper())"
   ]
  },
  {
   "cell_type": "code",
   "execution_count": null,
   "id": "3b986d6a-b8dd-4cfe-8195-a8bef9e107d6",
   "metadata": {},
   "outputs": [],
   "source": [
    "# req : i want the entire name in small case letters"
   ]
  },
  {
   "cell_type": "code",
   "execution_count": 42,
   "id": "b41191cc-0e89-4ec5-bd2a-45d66b536f27",
   "metadata": {},
   "outputs": [
    {
     "name": "stdout",
     "output_type": "stream",
     "text": [
      "madiha kowsar\n"
     ]
    }
   ],
   "source": [
    "print(fullname.lower())"
   ]
  },
  {
   "cell_type": "code",
   "execution_count": null,
   "id": "3b0570dd-d1a3-48b2-9979-e74eeceaeb54",
   "metadata": {},
   "outputs": [],
   "source": []
  },
  {
   "cell_type": "code",
   "execution_count": null,
   "id": "728074ac-8311-4eba-9514-0c6ee8307013",
   "metadata": {},
   "outputs": [],
   "source": []
  }
 ],
 "metadata": {
  "kernelspec": {
   "display_name": "Python 3 (ipykernel)",
   "language": "python",
   "name": "python3"
  },
  "language_info": {
   "codemirror_mode": {
    "name": "ipython",
    "version": 3
   },
   "file_extension": ".py",
   "mimetype": "text/x-python",
   "name": "python",
   "nbconvert_exporter": "python",
   "pygments_lexer": "ipython3",
   "version": "3.12.4"
  }
 },
 "nbformat": 4,
 "nbformat_minor": 5
}
