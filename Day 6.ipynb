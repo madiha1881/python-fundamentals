{
 "cells": [
  {
   "cell_type": "code",
   "execution_count": null,
   "id": "0fd15e1c-9829-425b-9f80-842d89d0913a",
   "metadata": {},
   "outputs": [],
   "source": [
    "continuation with a datatype :"
   ]
  },
  {
   "cell_type": "code",
   "execution_count": null,
   "id": "e8fde708-ddef-4354-959c-a1b5d089d82e",
   "metadata": {},
   "outputs": [],
   "source": [
    "introduction to looping statements :"
   ]
  },
  {
   "cell_type": "code",
   "execution_count": null,
   "id": "dabded83-dc29-4c94-a3c5-c93c17e78af9",
   "metadata": {},
   "outputs": [],
   "source": [
    "understanding the concept of for loop :"
   ]
  },
  {
   "cell_type": "code",
   "execution_count": null,
   "id": "dd989257-0f87-4ed8-bc07-cc749da438ba",
   "metadata": {},
   "outputs": [],
   "source": []
  },
  {
   "cell_type": "code",
   "execution_count": 26,
   "id": "5d548978-af4d-4552-a16a-a1c5b6665a9c",
   "metadata": {},
   "outputs": [],
   "source": [
    "students = ['naveen','amer','uday','sameer','anusha','bushra']"
   ]
  },
  {
   "cell_type": "code",
   "execution_count": 28,
   "id": "1658bae3-b280-465f-95ab-02e230f5c869",
   "metadata": {},
   "outputs": [
    {
     "name": "stdout",
     "output_type": "stream",
     "text": [
      "['naveen', 'amer', 'uday', 'sameer', 'anusha', 'bushra']\n"
     ]
    }
   ],
   "source": [
    "print(students)"
   ]
  },
  {
   "cell_type": "code",
   "execution_count": 30,
   "id": "cdbb0d93-341b-4760-8480-26a0c1fa9d0b",
   "metadata": {},
   "outputs": [
    {
     "data": {
      "text/plain": [
       "list"
      ]
     },
     "execution_count": 30,
     "metadata": {},
     "output_type": "execute_result"
    }
   ],
   "source": [
    "type(students)"
   ]
  },
  {
   "cell_type": "code",
   "execution_count": null,
   "id": "5aaa1acf-d807-4022-a65c-fbf2151eb3ea",
   "metadata": {},
   "outputs": [],
   "source": [
    "# req : to appreciate the list of students mentioned above."
   ]
  },
  {
   "cell_type": "code",
   "execution_count": 34,
   "id": "2e39058c-a0c9-4b14-9782-accea8f12565",
   "metadata": {},
   "outputs": [
    {
     "name": "stdout",
     "output_type": "stream",
     "text": [
      "keep up the good work, Naveen\n"
     ]
    }
   ],
   "source": [
    "print(f\"keep up the good work, {students[0].title()}\")"
   ]
  },
  {
   "cell_type": "code",
   "execution_count": null,
   "id": "c64c8da1-7fb8-49cc-9f69-f2bb52280174",
   "metadata": {},
   "outputs": [],
   "source": [
    "# req : ameer...."
   ]
  },
  {
   "cell_type": "code",
   "execution_count": 36,
   "id": "e0bfea9f-48f7-4485-88e6-bd4fad92b28b",
   "metadata": {},
   "outputs": [
    {
     "name": "stdout",
     "output_type": "stream",
     "text": [
      "keep up the good work, Amer\n"
     ]
    }
   ],
   "source": [
    "print(f\"keep up the good work, {students[1].title()}\")"
   ]
  },
  {
   "cell_type": "code",
   "execution_count": null,
   "id": "936d4bfa-2108-4b97-86a4-e524a5cea957",
   "metadata": {},
   "outputs": [],
   "source": [
    "# general syntax of for loop :"
   ]
  },
  {
   "cell_type": "code",
   "execution_count": null,
   "id": "4ab53732-db8b-4359-9787-2057da94b3b6",
   "metadata": {},
   "outputs": [],
   "source": [
    "for tempvar in mainvar:\n",
    "    print(tempvar)"
   ]
  },
  {
   "cell_type": "code",
   "execution_count": 40,
   "id": "368bfa66-4c94-4418-86ad-d26c17debef5",
   "metadata": {},
   "outputs": [
    {
     "name": "stdout",
     "output_type": "stream",
     "text": [
      "keep up the good work, Naveen\n",
      "keep up the good work, Amer\n",
      "keep up the good work, Uday\n",
      "keep up the good work, Sameer\n",
      "keep up the good work, Anusha\n",
      "keep up the good work, Bushra\n"
     ]
    }
   ],
   "source": [
    "for x in students:\n",
    "    print(f\"keep up the good work, {x.title()}\")"
   ]
  },
  {
   "cell_type": "code",
   "execution_count": 42,
   "id": "3dda98f1-0228-4ae6-a116-30ebbbb0966b",
   "metadata": {},
   "outputs": [
    {
     "name": "stdout",
     "output_type": "stream",
     "text": [
      "naveen\n",
      "amer\n",
      "uday\n",
      "sameer\n",
      "anusha\n",
      "bushra\n"
     ]
    }
   ],
   "source": [
    "for ironman in students:\n",
    "    print(ironman)"
   ]
  },
  {
   "cell_type": "code",
   "execution_count": 44,
   "id": "a362abaf-e194-4e78-9a42-eb5412682d72",
   "metadata": {},
   "outputs": [
    {
     "name": "stdout",
     "output_type": "stream",
     "text": [
      "keep up the good work, Naveen\n",
      "do sumbit your work for today without fail, Naveen\n",
      "keep up the good work, Amer\n",
      "do sumbit your work for today without fail, Amer\n",
      "keep up the good work, Uday\n",
      "do sumbit your work for today without fail, Uday\n",
      "keep up the good work, Sameer\n",
      "do sumbit your work for today without fail, Sameer\n",
      "keep up the good work, Anusha\n",
      "do sumbit your work for today without fail, Anusha\n",
      "keep up the good work, Bushra\n",
      "do sumbit your work for today without fail, Bushra\n"
     ]
    }
   ],
   "source": [
    "for x in students:\n",
    "    print(f\"keep up the good work, {x.title()}\")\n",
    "    print(f\"do sumbit your work for today without fail, {x.title()}\")"
   ]
  },
  {
   "cell_type": "code",
   "execution_count": null,
   "id": "8f8af4d7-78a1-4c26-9dfa-15080cb23bfa",
   "metadata": {},
   "outputs": [],
   "source": [
    "# enhancement of the code"
   ]
  },
  {
   "cell_type": "code",
   "execution_count": 46,
   "id": "0ff161bf-2f09-43d5-80da-5f1a5f3c59e9",
   "metadata": {},
   "outputs": [
    {
     "name": "stdout",
     "output_type": "stream",
     "text": [
      "keep up the good work, Naveen\n",
      "do sumbit your work for today without fail, Naveen\n",
      "\n",
      "keep up the good work, Amer\n",
      "do sumbit your work for today without fail, Amer\n",
      "\n",
      "keep up the good work, Uday\n",
      "do sumbit your work for today without fail, Uday\n",
      "\n",
      "keep up the good work, Sameer\n",
      "do sumbit your work for today without fail, Sameer\n",
      "\n",
      "keep up the good work, Anusha\n",
      "do sumbit your work for today without fail, Anusha\n",
      "\n",
      "keep up the good work, Bushra\n",
      "do sumbit your work for today without fail, Bushra\n",
      "\n"
     ]
    }
   ],
   "source": [
    "for x in students:\n",
    "    print(f\"keep up the good work, {x.title()}\")\n",
    "    print(f\"do sumbit your work for today without fail, {x.title()}\\n\")"
   ]
  },
  {
   "cell_type": "code",
   "execution_count": null,
   "id": "592c3cf4-2279-403d-8d3d-e6e6a0cf674a",
   "metadata": {},
   "outputs": [],
   "source": [
    "for tempvar in mainvar:  # indentation\n",
    "    print(tempvar)"
   ]
  },
  {
   "cell_type": "code",
   "execution_count": 48,
   "id": "9ae16290-98da-4d4e-842e-6c3721b0c656",
   "metadata": {},
   "outputs": [
    {
     "ename": "IndentationError",
     "evalue": "expected an indented block after 'for' statement on line 1 (1693164105.py, line 2)",
     "output_type": "error",
     "traceback": [
      "\u001b[1;36m  Cell \u001b[1;32mIn[48], line 2\u001b[1;36m\u001b[0m\n\u001b[1;33m    print(ironman)\u001b[0m\n\u001b[1;37m    ^\u001b[0m\n\u001b[1;31mIndentationError\u001b[0m\u001b[1;31m:\u001b[0m expected an indented block after 'for' statement on line 1\n"
     ]
    }
   ],
   "source": [
    "for ironman in students:\n",
    "print(ironman)"
   ]
  },
  {
   "cell_type": "code",
   "execution_count": null,
   "id": "0a0d5eed-e320-4945-a1d1-d12aca663f61",
   "metadata": {},
   "outputs": [],
   "source": []
  },
  {
   "cell_type": "code",
   "execution_count": 50,
   "id": "e25d2036-828b-4076-b510-eaa83bafa68b",
   "metadata": {},
   "outputs": [
    {
     "name": "stdout",
     "output_type": "stream",
     "text": [
      "keep up the good work, Naveen\n",
      "do sumbit your work for today without fail, Naveen\n",
      "\n",
      "keep up the good work, Amer\n",
      "do sumbit your work for today without fail, Amer\n",
      "\n",
      "keep up the good work, Uday\n",
      "do sumbit your work for today without fail, Uday\n",
      "\n",
      "keep up the good work, Sameer\n",
      "do sumbit your work for today without fail, Sameer\n",
      "\n",
      "keep up the good work, Anusha\n",
      "do sumbit your work for today without fail, Anusha\n",
      "\n",
      "keep up the good work, Bushra\n",
      "do sumbit your work for today without fail, Bushra\n",
      "\n",
      "Thank you all joining in the session\n"
     ]
    }
   ],
   "source": [
    "for x in students:\n",
    "    print(f\"keep up the good work, {x.title()}\")   # writing out of the loop  ------> it will be applied to all the elements \n",
    "    print(f\"do sumbit your work for today without fail, {x.title()}\\n\")  # writing out of the loop\n",
    "print(\"Thank you all joining in the session\")  # it is getting executed only one time ------> writing out of the loop"
   ]
  },
  {
   "cell_type": "code",
   "execution_count": null,
   "id": "f0347493-e61a-4871-8341-8e7d6fbcc0e0",
   "metadata": {},
   "outputs": [],
   "source": []
  },
  {
   "cell_type": "code",
   "execution_count": null,
   "id": "da483228-f818-4dfa-9c7e-441389bd9aff",
   "metadata": {},
   "outputs": [],
   "source": []
  },
  {
   "cell_type": "code",
   "execution_count": null,
   "id": "6a77e2bc-b6ea-4c7d-b7b0-60cc1577b53e",
   "metadata": {},
   "outputs": [],
   "source": []
  }
 ],
 "metadata": {
  "kernelspec": {
   "display_name": "Python 3 (ipykernel)",
   "language": "python",
   "name": "python3"
  },
  "language_info": {
   "codemirror_mode": {
    "name": "ipython",
    "version": 3
   },
   "file_extension": ".py",
   "mimetype": "text/x-python",
   "name": "python",
   "nbconvert_exporter": "python",
   "pygments_lexer": "ipython3",
   "version": "3.12.4"
  }
 },
 "nbformat": 4,
 "nbformat_minor": 5
}
