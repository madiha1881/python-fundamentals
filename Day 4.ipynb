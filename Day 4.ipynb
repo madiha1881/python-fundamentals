{
 "cells": [
  {
   "cell_type": "code",
   "execution_count": null,
   "id": "5dd78d0a-3db8-4b62-91a0-fc8408a4ce38",
   "metadata": {},
   "outputs": [],
   "source": [
    "introduction to list datatype :"
   ]
  },
  {
   "cell_type": "code",
   "execution_count": null,
   "id": "623aac4c-4391-4dc3-9a20-2bf7aa04cc83",
   "metadata": {},
   "outputs": [],
   "source": [
    "Defination : A list is a collection of items decalred in a particular order.\n",
    "\n",
    "classification : it is classified as an mutable datadype\n",
    "\n",
    "How to declare the list ----------> [ ]"
   ]
  },
  {
   "cell_type": "code",
   "execution_count": null,
   "id": "65a406bc-fe9f-4e45-95df-857438c8bbd2",
   "metadata": {},
   "outputs": [],
   "source": []
  },
  {
   "cell_type": "code",
   "execution_count": 36,
   "id": "cbbbfcdc-ef49-4024-9e21-0d3d225cd06c",
   "metadata": {},
   "outputs": [],
   "source": [
    "students = [ 'salma' ,'keerthi' ,'naveen','kalyan','sajith','parveen',]  # 0,1,2,3,4,5"
   ]
  },
  {
   "cell_type": "code",
   "execution_count": 38,
   "id": "865f6959-30a4-43df-968f-ffe3642c2ae3",
   "metadata": {},
   "outputs": [
    {
     "name": "stdout",
     "output_type": "stream",
     "text": [
      "['salma', 'keerthi', 'naveen', 'kalyan', 'sajith', 'parveen']\n"
     ]
    }
   ],
   "source": [
    "print(students)"
   ]
  },
  {
   "cell_type": "code",
   "execution_count": 40,
   "id": "6b02d2e9-1a31-48a8-b3c9-c72ec448e444",
   "metadata": {},
   "outputs": [
    {
     "data": {
      "text/plain": [
       "list"
      ]
     },
     "execution_count": 40,
     "metadata": {},
     "output_type": "execute_result"
    }
   ],
   "source": [
    "type(students)"
   ]
  },
  {
   "cell_type": "code",
   "execution_count": null,
   "id": "ed580e83-b046-4542-afad-d58bacee4b04",
   "metadata": {},
   "outputs": [],
   "source": [
    "introduction to indexation : 0,1,2,3,...........n"
   ]
  },
  {
   "cell_type": "code",
   "execution_count": null,
   "id": "c7cb9439-418b-4cd6-aff7-dd447548a9b5",
   "metadata": {},
   "outputs": [],
   "source": [
    "# req : i want to access keerthi name in the output.......?"
   ]
  },
  {
   "cell_type": "code",
   "execution_count": 42,
   "id": "39547b4e-eb5e-4a5b-b549-88f36ea58e91",
   "metadata": {},
   "outputs": [
    {
     "name": "stdout",
     "output_type": "stream",
     "text": [
      "keerthi\n"
     ]
    }
   ],
   "source": [
    "print(students[1])"
   ]
  },
  {
   "cell_type": "code",
   "execution_count": 46,
   "id": "89b3703e-86b6-480e-a803-08b5491ab618",
   "metadata": {},
   "outputs": [
    {
     "name": "stdout",
     "output_type": "stream",
     "text": [
      "Keerthi\n"
     ]
    }
   ],
   "source": [
    "print(students[1].title())"
   ]
  },
  {
   "cell_type": "code",
   "execution_count": null,
   "id": "43bb81d8-6ccc-4727-a95d-65c256fdf5da",
   "metadata": {},
   "outputs": [],
   "source": [
    "# req : i want to access kalyan name in the output.......?"
   ]
  },
  {
   "cell_type": "code",
   "execution_count": 48,
   "id": "45714480-36db-4ccb-a45d-b98d8448705a",
   "metadata": {},
   "outputs": [
    {
     "name": "stdout",
     "output_type": "stream",
     "text": [
      "Kalyan\n"
     ]
    }
   ],
   "source": [
    "print(students[3].title())"
   ]
  },
  {
   "cell_type": "code",
   "execution_count": null,
   "id": "71e30305-ccf2-4e3e-84b9-0185cfd4ac34",
   "metadata": {},
   "outputs": [],
   "source": [
    "1. how to add new elements in the list      ============ completed.\n",
    "\n",
    "2. how to modify the elements in the list   ============ completed.\n",
    "\n",
    "3. how to delete the elements in the list   ============ completed."
   ]
  },
  {
   "cell_type": "code",
   "execution_count": 50,
   "id": "a2e0f355-896f-446e-9e44-2ce46a781dd8",
   "metadata": {},
   "outputs": [
    {
     "name": "stdout",
     "output_type": "stream",
     "text": [
      "['salma', 'keerthi', 'naveen', 'kalyan', 'sajith', 'parveen']\n"
     ]
    }
   ],
   "source": [
    "print(students)"
   ]
  },
  {
   "cell_type": "code",
   "execution_count": null,
   "id": "76c8aabf-113d-42d9-904e-4def40bf500c",
   "metadata": {},
   "outputs": [],
   "source": [
    "# req : i want to add adil to the above list...."
   ]
  },
  {
   "cell_type": "code",
   "execution_count": 54,
   "id": "be71e421-243d-4937-ae81-1291422adb8f",
   "metadata": {},
   "outputs": [],
   "source": [
    "students.append('adil')"
   ]
  },
  {
   "cell_type": "code",
   "execution_count": 56,
   "id": "f600e53b-bc46-477f-9311-884ccc33615f",
   "metadata": {},
   "outputs": [
    {
     "name": "stdout",
     "output_type": "stream",
     "text": [
      "['salma', 'keerthi', 'naveen', 'kalyan', 'sajith', 'parveen', 'adil']\n"
     ]
    }
   ],
   "source": [
    "print(students)"
   ]
  },
  {
   "cell_type": "code",
   "execution_count": null,
   "id": "63a686e2-8b96-44f9-ab68-e66816dd7ec6",
   "metadata": {},
   "outputs": [],
   "source": [
    "# req : i want to add suresh to the above list...."
   ]
  },
  {
   "cell_type": "code",
   "execution_count": 58,
   "id": "50bc8660-30b2-4ccd-bb37-53f0a707410b",
   "metadata": {},
   "outputs": [],
   "source": [
    "students.append('suresh')"
   ]
  },
  {
   "cell_type": "code",
   "execution_count": 60,
   "id": "f3dead13-c108-44bf-9613-68ded8ee1a28",
   "metadata": {},
   "outputs": [
    {
     "name": "stdout",
     "output_type": "stream",
     "text": [
      "['salma', 'keerthi', 'naveen', 'kalyan', 'sajith', 'parveen', 'adil', 'suresh']\n"
     ]
    }
   ],
   "source": [
    "print(students)"
   ]
  },
  {
   "cell_type": "code",
   "execution_count": null,
   "id": "b01e76c8-1653-4f72-8f4e-ee133d7198e3",
   "metadata": {},
   "outputs": [],
   "source": [
    "# req : i want to add neha at 2nd index...."
   ]
  },
  {
   "cell_type": "code",
   "execution_count": 66,
   "id": "e2a710d5-851f-48f7-8cc4-3cd183ca03d0",
   "metadata": {},
   "outputs": [],
   "source": [
    "students.insert(2,'neha')"
   ]
  },
  {
   "cell_type": "code",
   "execution_count": 68,
   "id": "5fbad3d3-02e2-4890-92f7-20addd2039d1",
   "metadata": {},
   "outputs": [
    {
     "name": "stdout",
     "output_type": "stream",
     "text": [
      "['salma', 'keerthi', 'neha', 'naveen', 'kalyan', 'sajith', 'parveen', 'adil', 'suresh']\n"
     ]
    }
   ],
   "source": [
    "print(students)"
   ]
  },
  {
   "cell_type": "code",
   "execution_count": null,
   "id": "2953e7f5-c76d-4d01-98aa-a9f7c08c6edf",
   "metadata": {},
   "outputs": [],
   "source": [
    "interview_question : What is the different bettween append method and insert method in the list datatype....can you please explain....?"
   ]
  },
  {
   "cell_type": "code",
   "execution_count": 70,
   "id": "ccdcdd04-890b-4637-89be-7731d2a6067c",
   "metadata": {},
   "outputs": [
    {
     "name": "stdout",
     "output_type": "stream",
     "text": [
      "['salma', 'keerthi', 'neha', 'naveen', 'kalyan', 'sajith', 'parveen', 'adil', 'suresh']\n"
     ]
    }
   ],
   "source": [
    "print(students)"
   ]
  },
  {
   "cell_type": "code",
   "execution_count": null,
   "id": "03d2e28b-19d6-4dae-80cf-ce4ceb15108c",
   "metadata": {},
   "outputs": [],
   "source": [
    "# req : i want to modify keerthi name to kiran...."
   ]
  },
  {
   "cell_type": "code",
   "execution_count": 74,
   "id": "e7fe7440-b3b7-4454-9a60-cb2b75c91e3a",
   "metadata": {},
   "outputs": [],
   "source": [
    "students[1] = 'kiran'"
   ]
  },
  {
   "cell_type": "code",
   "execution_count": 76,
   "id": "b5a4f432-4dde-4a3c-aafe-cf9dfad87675",
   "metadata": {},
   "outputs": [
    {
     "name": "stdout",
     "output_type": "stream",
     "text": [
      "['salma', 'kiran', 'neha', 'naveen', 'kalyan', 'sajith', 'parveen', 'adil', 'suresh']\n"
     ]
    }
   ],
   "source": [
    "print(students)"
   ]
  },
  {
   "cell_type": "code",
   "execution_count": null,
   "id": "34d1fed7-c784-47fd-8baa-5d1d7df74d75",
   "metadata": {},
   "outputs": [],
   "source": [
    "# req : i want to delete neha in the above list....?"
   ]
  },
  {
   "cell_type": "code",
   "execution_count": 84,
   "id": "ad71d53d-53fc-4f71-8627-5c7ffe757d94",
   "metadata": {},
   "outputs": [],
   "source": [
    "del students[2]"
   ]
  },
  {
   "cell_type": "code",
   "execution_count": 86,
   "id": "5c955db0-4550-461c-8cdd-bb002393508a",
   "metadata": {},
   "outputs": [
    {
     "name": "stdout",
     "output_type": "stream",
     "text": [
      "['salma', 'kiran', 'naveen', 'kalyan', 'sajith', 'parveen', 'adil', 'suresh']\n"
     ]
    }
   ],
   "source": [
    "print(students)"
   ]
  },
  {
   "cell_type": "code",
   "execution_count": null,
   "id": "72a80248-24ae-4e94-8109-2b3feb1636b4",
   "metadata": {},
   "outputs": [],
   "source": []
  },
  {
   "cell_type": "code",
   "execution_count": null,
   "id": "73eb4439-1ccf-4e6a-b27f-12a81b78d71a",
   "metadata": {},
   "outputs": [],
   "source": [
    "Zen of python :"
   ]
  },
  {
   "cell_type": "code",
   "execution_count": 93,
   "id": "903824a2-ed9b-4d71-9145-7ce54609b12e",
   "metadata": {},
   "outputs": [
    {
     "name": "stdout",
     "output_type": "stream",
     "text": [
      "The Zen of Python, by Tim Peters\n",
      "\n",
      "Beautiful is better than ugly.\n",
      "Explicit is better than implicit.\n",
      "Simple is better than complex.\n",
      "Complex is better than complicated.\n",
      "Flat is better than nested.\n",
      "Sparse is better than dense.\n",
      "Readability counts.\n",
      "Special cases aren't special enough to break the rules.\n",
      "Although practicality beats purity.\n",
      "Errors should never pass silently.\n",
      "Unless explicitly silenced.\n",
      "In the face of ambiguity, refuse the temptation to guess.\n",
      "There should be one-- and preferably only one --obvious way to do it.\n",
      "Although that way may not be obvious at first unless you're Dutch.\n",
      "Now is better than never.\n",
      "Although never is often better than *right* now.\n",
      "If the implementation is hard to explain, it's a bad idea.\n",
      "If the implementation is easy to explain, it may be a good idea.\n",
      "Namespaces are one honking great idea -- let's do more of those!\n"
     ]
    }
   ],
   "source": [
    "import this "
   ]
  },
  {
   "cell_type": "code",
   "execution_count": null,
   "id": "442fdd3e-ed30-4756-8432-17e2ef4ff13a",
   "metadata": {},
   "outputs": [],
   "source": []
  },
  {
   "cell_type": "code",
   "execution_count": null,
   "id": "64767b5f-47bc-434e-a41f-9feca1b770ba",
   "metadata": {},
   "outputs": [],
   "source": []
  }
 ],
 "metadata": {
  "kernelspec": {
   "display_name": "Python 3 (ipykernel)",
   "language": "python",
   "name": "python3"
  },
  "language_info": {
   "codemirror_mode": {
    "name": "ipython",
    "version": 3
   },
   "file_extension": ".py",
   "mimetype": "text/x-python",
   "name": "python",
   "nbconvert_exporter": "python",
   "pygments_lexer": "ipython3",
   "version": "3.12.4"
  }
 },
 "nbformat": 4,
 "nbformat_minor": 5
}
