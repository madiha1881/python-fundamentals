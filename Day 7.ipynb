{
 "cells": [
  {
   "cell_type": "raw",
   "id": "5d7d65c8-a83e-4e71-802e-0ef999af2d2b",
   "metadata": {},
   "source": [
    "Introduction to tuple datatype :"
   ]
  },
  {
   "cell_type": "code",
   "execution_count": null,
   "id": "2fa29212-e23c-4dce-9f15-25d0ab1bdacd",
   "metadata": {},
   "outputs": [],
   "source": [
    "Defination : An immutable list is called as a tuple\n",
    "\n",
    "classification : It is classified as a immutable datatype\n",
    "\n",
    "how to define the tuple datatype -------> ( )"
   ]
  },
  {
   "cell_type": "code",
   "execution_count": null,
   "id": "bf1fb865-2523-4dc4-8d52-d5ab53b86647",
   "metadata": {},
   "outputs": [],
   "source": []
  },
  {
   "cell_type": "code",
   "execution_count": 17,
   "id": "efd3cb30-a4a4-48af-a174-5cd1d10d0109",
   "metadata": {},
   "outputs": [
    {
     "name": "stdout",
     "output_type": "stream",
     "text": [
      "(100, 150)\n"
     ]
    }
   ],
   "source": [
    "dimensions = (100, 150)\n",
    "\n",
    "print(dimensions)"
   ]
  },
  {
   "cell_type": "code",
   "execution_count": 19,
   "id": "9ca93eb8-39e7-40f3-817b-627c83b42910",
   "metadata": {},
   "outputs": [
    {
     "data": {
      "text/plain": [
       "tuple"
      ]
     },
     "execution_count": 19,
     "metadata": {},
     "output_type": "execute_result"
    }
   ],
   "source": [
    "type(dimensions)"
   ]
  },
  {
   "cell_type": "code",
   "execution_count": null,
   "id": "e1f48e63-35a4-483d-be06-e9eeffa466d5",
   "metadata": {},
   "outputs": [],
   "source": [
    "# req : i want to change 100 ------, 200"
   ]
  },
  {
   "cell_type": "code",
   "execution_count": 21,
   "id": "7fd1920d-c53b-4edb-9b75-6ccd92f84cb6",
   "metadata": {},
   "outputs": [
    {
     "ename": "TypeError",
     "evalue": "'tuple' object does not support item assignment",
     "output_type": "error",
     "traceback": [
      "\u001b[1;31m---------------------------------------------------------------------------\u001b[0m",
      "\u001b[1;31mTypeError\u001b[0m                                 Traceback (most recent call last)",
      "Cell \u001b[1;32mIn[21], line 1\u001b[0m\n\u001b[1;32m----> 1\u001b[0m dimensions[\u001b[38;5;241m0\u001b[39m] \u001b[38;5;241m=\u001b[39m \u001b[38;5;241m200\u001b[39m\n",
      "\u001b[1;31mTypeError\u001b[0m: 'tuple' object does not support item assignment"
     ]
    }
   ],
   "source": [
    "dimensions[0] = 200"
   ]
  },
  {
   "cell_type": "code",
   "execution_count": 23,
   "id": "27d8b246-b9da-490b-88be-63df11ff33ac",
   "metadata": {},
   "outputs": [],
   "source": [
    "students = ('naveen', 'vaideki', 'parveen', 'sushma')"
   ]
  },
  {
   "cell_type": "code",
   "execution_count": 25,
   "id": "07fc9036-afcc-49a8-b11b-58c81e2f2466",
   "metadata": {},
   "outputs": [
    {
     "name": "stdout",
     "output_type": "stream",
     "text": [
      "('naveen', 'vaideki', 'parveen', 'sushma')\n"
     ]
    }
   ],
   "source": [
    "print(students)"
   ]
  },
  {
   "cell_type": "code",
   "execution_count": 27,
   "id": "e8eea0cd-3d9f-46df-9be3-3fdfabe02575",
   "metadata": {},
   "outputs": [
    {
     "data": {
      "text/plain": [
       "tuple"
      ]
     },
     "execution_count": 27,
     "metadata": {},
     "output_type": "execute_result"
    }
   ],
   "source": [
    "type(students) "
   ]
  },
  {
   "cell_type": "code",
   "execution_count": 29,
   "id": "895f697f-ba45-44ae-9a58-dcad119ccaa1",
   "metadata": {},
   "outputs": [
    {
     "name": "stdout",
     "output_type": "stream",
     "text": [
      "naveen\n",
      "vaideki\n",
      "parveen\n",
      "sushma\n"
     ]
    }
   ],
   "source": [
    "for x in students:\n",
    "    print(x)"
   ]
  },
  {
   "cell_type": "code",
   "execution_count": null,
   "id": "72385917-2e4e-4703-9db4-c71a49961a6e",
   "metadata": {},
   "outputs": [],
   "source": []
  },
  {
   "cell_type": "code",
   "execution_count": null,
   "id": "a9157b80-20e6-4303-867a-05e899d6b6bf",
   "metadata": {},
   "outputs": [],
   "source": [
    "Introduction to dictionaries :"
   ]
  },
  {
   "cell_type": "code",
   "execution_count": null,
   "id": "4ef09397-4ecd-41d0-abf0-6e9fa0a48a71",
   "metadata": {},
   "outputs": [],
   "source": [
    "defination : A dict is a combination of key value pairs\n",
    "\n",
    "classification : it is classified as a mutable datatype\n",
    "\n",
    "how to define the dictionary : { } "
   ]
  },
  {
   "cell_type": "code",
   "execution_count": null,
   "id": "aa66bafc-fc81-47a5-8e8a-d4f760e8a63f",
   "metadata": {},
   "outputs": [],
   "source": []
  },
  {
   "cell_type": "code",
   "execution_count": null,
   "id": "ad1ffee1-5eb3-4a78-9906-638d9e36d98d",
   "metadata": {},
   "outputs": [],
   "source": [
    "# req : i want to create a alien game"
   ]
  },
  {
   "cell_type": "code",
   "execution_count": 33,
   "id": "92095368-1b93-473b-ad6a-6ab7cbdfd049",
   "metadata": {},
   "outputs": [],
   "source": [
    "alien = {'color':'green','points': 10}"
   ]
  },
  {
   "cell_type": "code",
   "execution_count": 35,
   "id": "fade08ab-8604-46b2-8676-616ecb84d54f",
   "metadata": {},
   "outputs": [
    {
     "name": "stdout",
     "output_type": "stream",
     "text": [
      "{'color': 'green', 'points': 10}\n"
     ]
    }
   ],
   "source": [
    "print(alien)"
   ]
  },
  {
   "cell_type": "code",
   "execution_count": 45,
   "id": "02b7a5b3-1b60-4bdd-940d-be0bda1a6010",
   "metadata": {},
   "outputs": [
    {
     "data": {
      "text/plain": [
       "dict"
      ]
     },
     "execution_count": 45,
     "metadata": {},
     "output_type": "execute_result"
    }
   ],
   "source": [
    "type(alien)"
   ]
  },
  {
   "cell_type": "code",
   "execution_count": null,
   "id": "c3ba3950-a451-4061-a43a-c27af01491c1",
   "metadata": {},
   "outputs": [],
   "source": [
    "# req : how to add new key value pairs to the dictionary"
   ]
  },
  {
   "cell_type": "code",
   "execution_count": null,
   "id": "a0a08bc3-7e0d-4f08-aeae-d702801e6e40",
   "metadata": {},
   "outputs": [],
   "source": [
    "# start_position : level0"
   ]
  },
  {
   "cell_type": "code",
   "execution_count": 47,
   "id": "e12c5aec-aaef-4279-a62f-646ab05d291e",
   "metadata": {},
   "outputs": [],
   "source": [
    "alien['start_position'] = 'level0'"
   ]
  },
  {
   "cell_type": "code",
   "execution_count": 49,
   "id": "3095a123-bd67-42f1-bb4c-a3c8b1319a08",
   "metadata": {},
   "outputs": [
    {
     "name": "stdout",
     "output_type": "stream",
     "text": [
      "{'color': 'green', 'points': 10, 'start_position': 'level0'}\n"
     ]
    }
   ],
   "source": [
    "print(alien)"
   ]
  },
  {
   "cell_type": "code",
   "execution_count": null,
   "id": "dfd96680-d816-457a-8a63-4e446dee3477",
   "metadata": {},
   "outputs": [],
   "source": [
    "note : keys wii be acting as a index point in the dictionary "
   ]
  },
  {
   "cell_type": "code",
   "execution_count": null,
   "id": "c45dbf2d-b3c3-46f5-9dea-d0486c2b7e83",
   "metadata": {},
   "outputs": [],
   "source": []
  },
  {
   "cell_type": "code",
   "execution_count": null,
   "id": "f1153877-5888-4ef1-9c13-cd43af9e2ee7",
   "metadata": {},
   "outputs": [],
   "source": [
    "# req : i want to add current_position : level - 1 "
   ]
  },
  {
   "cell_type": "code",
   "execution_count": 58,
   "id": "11bb939b-2474-4394-b58f-921100a04250",
   "metadata": {},
   "outputs": [],
   "source": [
    "alien['current_position'] = 'level - 1'"
   ]
  },
  {
   "cell_type": "code",
   "execution_count": 60,
   "id": "b3631b96-d4b5-49ed-a512-e9e1ddc2f1de",
   "metadata": {},
   "outputs": [
    {
     "name": "stdout",
     "output_type": "stream",
     "text": [
      "{'color': 'green', 'points': 10, 'start_position': 'level0', 'current_position': 'level - 1'}\n"
     ]
    }
   ],
   "source": [
    "print(alien)"
   ]
  },
  {
   "cell_type": "code",
   "execution_count": null,
   "id": "9a295fec-adc5-41c5-a41d-2cf5b585b535",
   "metadata": {},
   "outputs": [],
   "source": [
    "# req : how to access the values from the dictionary......"
   ]
  },
  {
   "cell_type": "code",
   "execution_count": 62,
   "id": "6dcd5c29-4237-43a4-952c-82f92ead5b96",
   "metadata": {},
   "outputs": [
    {
     "data": {
      "text/plain": [
       "10"
      ]
     },
     "execution_count": 62,
     "metadata": {},
     "output_type": "execute_result"
    }
   ],
   "source": [
    "alien['points']"
   ]
  },
  {
   "cell_type": "code",
   "execution_count": 64,
   "id": "acea5e6b-3ee2-43d2-8ef4-a8c0e0d7653f",
   "metadata": {},
   "outputs": [
    {
     "data": {
      "text/plain": [
       "'level - 1'"
      ]
     },
     "execution_count": 64,
     "metadata": {},
     "output_type": "execute_result"
    }
   ],
   "source": [
    "alien['current_position']"
   ]
  },
  {
   "cell_type": "code",
   "execution_count": null,
   "id": "de9c4b0d-8a00-4b48-b66f-af80a54bd789",
   "metadata": {},
   "outputs": [],
   "source": [
    "note : give the key get the key the value"
   ]
  },
  {
   "cell_type": "code",
   "execution_count": null,
   "id": "70902983-7a70-4d08-978b-69de86089fbf",
   "metadata": {},
   "outputs": [],
   "source": [
    "# req : can we get the key by giving the value....?"
   ]
  },
  {
   "cell_type": "code",
   "execution_count": 66,
   "id": "ba972393-0827-4ea7-b9f7-447b92cb4acd",
   "metadata": {},
   "outputs": [
    {
     "ename": "NameError",
     "evalue": "name 'green' is not defined",
     "output_type": "error",
     "traceback": [
      "\u001b[1;31m---------------------------------------------------------------------------\u001b[0m",
      "\u001b[1;31mNameError\u001b[0m                                 Traceback (most recent call last)",
      "Cell \u001b[1;32mIn[66], line 1\u001b[0m\n\u001b[1;32m----> 1\u001b[0m alien(green)\n",
      "\u001b[1;31mNameError\u001b[0m: name 'green' is not defined"
     ]
    }
   ],
   "source": [
    "alien(green)\n"
   ]
  },
  {
   "cell_type": "code",
   "execution_count": null,
   "id": "f9988371-0bb3-4eaa-a8f0-675fd8d89e7a",
   "metadata": {},
   "outputs": [],
   "source": [
    "Implementation of for loops on the dictionary :"
   ]
  },
  {
   "cell_type": "code",
   "execution_count": null,
   "id": "ef6c758a-4459-4f19-8349-5523e0eddeaf",
   "metadata": {},
   "outputs": [],
   "source": [
    "# general syntax :"
   ]
  },
  {
   "cell_type": "code",
   "execution_count": null,
   "id": "7ee51f5d-9575-417a-bec6-8455a084eb57",
   "metadata": {},
   "outputs": [],
   "source": [
    "for tempvar1, tempvar in mainvar.items():\n",
    "    print(tempvar1)\n",
    "    print(tempvar2)"
   ]
  },
  {
   "cell_type": "code",
   "execution_count": 72,
   "id": "3de9fc0e-fdd2-412d-8e22-a2974a712eb1",
   "metadata": {},
   "outputs": [
    {
     "name": "stdout",
     "output_type": "stream",
     "text": [
      "{'color': 'green', 'points': 10, 'start_position': 'level0', 'current_position': 'level - 1'}\n"
     ]
    }
   ],
   "source": [
    "print(alien)"
   ]
  },
  {
   "cell_type": "code",
   "execution_count": 76,
   "id": "316c8776-3498-4f4c-aba5-c9495410d468",
   "metadata": {},
   "outputs": [
    {
     "name": "stdout",
     "output_type": "stream",
     "text": [
      "color\n",
      "green\n",
      "points\n",
      "10\n",
      "start_position\n",
      "level0\n",
      "current_position\n",
      "level - 1\n"
     ]
    }
   ],
   "source": [
    "for k,v in alien.items():\n",
    "    print(k)\n",
    "    print(v)"
   ]
  },
  {
   "cell_type": "code",
   "execution_count": null,
   "id": "65f4f2e1-5e0e-48f3-b49b-0a8e343502ef",
   "metadata": {},
   "outputs": [],
   "source": []
  },
  {
   "cell_type": "code",
   "execution_count": null,
   "id": "d0cbcde5-5011-4af6-b5d7-30b57f2537fb",
   "metadata": {},
   "outputs": [],
   "source": []
  },
  {
   "cell_type": "code",
   "execution_count": null,
   "id": "7cafe23b-c87d-4841-b5c6-4809bf22588b",
   "metadata": {},
   "outputs": [],
   "source": []
  },
  {
   "cell_type": "code",
   "execution_count": null,
   "id": "3387eaed-b1ac-46c9-a39e-1cb80611901a",
   "metadata": {},
   "outputs": [],
   "source": []
  }
 ],
 "metadata": {
  "kernelspec": {
   "display_name": "Python 3 (ipykernel)",
   "language": "python",
   "name": "python3"
  },
  "language_info": {
   "codemirror_mode": {
    "name": "ipython",
    "version": 3
   },
   "file_extension": ".py",
   "mimetype": "text/x-python",
   "name": "python",
   "nbconvert_exporter": "python",
   "pygments_lexer": "ipython3",
   "version": "3.12.4"
  }
 },
 "nbformat": 4,
 "nbformat_minor": 5
}
